{
 "cells": [
  {
   "cell_type": "code",
   "execution_count": 1,
   "metadata": {},
   "outputs": [],
   "source": [
    "from bs4 import BeautifulSoup\n",
    "import requests\n",
    "from tabulate import tabulate"
   ]
  },
  {
   "cell_type": "code",
   "execution_count": 2,
   "metadata": {},
   "outputs": [],
   "source": [
    "def make_soup(url):\n",
    "    return(BeautifulSoup(requests.get(url).text, 'html.parser'))"
   ]
  },
  {
   "cell_type": "code",
   "execution_count": 3,
   "metadata": {},
   "outputs": [],
   "source": [
    "def browseOptions(category, data):\n",
    "    url = data[category-1][2]\n",
    "    category = data[category-1][1]\n",
    "    content_details = []\n",
    "    count = 1\n",
    "    titles = []\n",
    "    soup = make_soup(url)\n",
    "    cards = soup.find_all('section',{'class':'nm-collections-row'})\n",
    "    for card in cards:\n",
    "        title = card.find('h1').text\n",
    "        movie_list = []\n",
    "        items = card.find_all('li')\n",
    "        movie_count = 1\n",
    "        for item in items:\n",
    "            heading = item.find('span',{'class':'nm-collections-title-name'}).text\n",
    "            movie_link = item.find('a').get('href')\n",
    "            movie_list.append([movie_count, heading, movie_link])\n",
    "            movie_count += 1\n",
    "            \n",
    "        titles.append(title)\n",
    "        content_details.append(movie_list)\n",
    "        count += 1\n",
    "\n",
    "    for i in range(0, count-1):\n",
    "        print(titles[i])\n",
    "        print(tabulate(content_details[i], headers=[\"Index\", \"Name\", \"Movie Link\"], tablefmt=\"grid\"))\n",
    "        "
   ]
  },
  {
   "cell_type": "code",
   "execution_count": 4,
   "metadata": {},
   "outputs": [],
   "source": [
    "def getOptions(base_url):\n",
    "    soup = make_soup(base_url)\n",
    "    card_list = soup.find_all('section',{'class':'nm-collections-row'})\n",
    "    result=[]\n",
    "    count = 1\n",
    "    for card in card_list:\n",
    "        try:\n",
    "            Title = card.find('span', {'class':'nm-collections-row-name'}).text\n",
    "            link = card.find('a').get('href')\n",
    "            result.append([count, Title, link])\n",
    "            count += 1\n",
    "        except AttributeError:\n",
    "           pass\n",
    "    return result"
   ]
  },
  {
   "cell_type": "code",
   "execution_count": null,
   "metadata": {},
   "outputs": [],
   "source": [
    "def main():\n",
    "    base_url = \"https://www.netflix.com/in/browse/genre/839338\"\n",
    "    result = getOptions(base_url)\n",
    "    print(\"Please select one of the categories\")\n",
    "    print(tabulate(result, headers=[\"Index\", \"Name\", \"Link\"], tablefmt=\"grid\"))\n",
    "    choice = int(input('\\n\\n Please Enter your Choice: \\n'))\n",
    "    browseOptions(choice, result)\n",
    "    #browseOptions(1, result)\n",
    "if __name__ == '__main__':\n",
    "    main()"
   ]
  }
 ],
 "metadata": {
  "kernelspec": {
   "display_name": "Python 3",
   "language": "python",
   "name": "python3"
  },
  "language_info": {
   "codemirror_mode": {
    "name": "ipython",
    "version": 3
   },
   "file_extension": ".py",
   "mimetype": "text/x-python",
   "name": "python",
   "nbconvert_exporter": "python",
   "pygments_lexer": "ipython3",
   "version": "3.7.6"
  }
 },
 "nbformat": 4,
 "nbformat_minor": 4
}
