{
  "nbformat": 4,
  "nbformat_minor": 0,
  "metadata": {
    "colab": {
      "provenance": []
    },
    "kernelspec": {
      "name": "python3",
      "display_name": "Python 3"
    },
    "language_info": {
      "name": "python"
    }
  },
  "cells": [
    {
      "cell_type": "markdown",
      "source": [
        "### **1. Installing Packages**"
      ],
      "metadata": {
        "id": "pSXJVwyF2Ed8"
      }
    },
    {
      "cell_type": "code",
      "source": [
        "!pip install -U scikit-learn"
      ],
      "metadata": {
        "colab": {
          "base_uri": "https://localhost:8080/"
        },
        "id": "WMc2NjhLzTk_",
        "outputId": "baf5c845-5778-4adf-cecd-340b49845107"
      },
      "execution_count": 29,
      "outputs": [
        {
          "output_type": "stream",
          "name": "stdout",
          "text": [
            "Requirement already satisfied: scikit-learn in /usr/local/lib/python3.10/dist-packages (1.3.1)\n",
            "Requirement already satisfied: numpy<2.0,>=1.17.3 in /usr/local/lib/python3.10/dist-packages (from scikit-learn) (1.23.5)\n",
            "Requirement already satisfied: scipy>=1.5.0 in /usr/local/lib/python3.10/dist-packages (from scikit-learn) (1.11.3)\n",
            "Requirement already satisfied: joblib>=1.1.1 in /usr/local/lib/python3.10/dist-packages (from scikit-learn) (1.3.2)\n",
            "Requirement already satisfied: threadpoolctl>=2.0.0 in /usr/local/lib/python3.10/dist-packages (from scikit-learn) (3.2.0)\n"
          ]
        }
      ]
    },
    {
      "cell_type": "markdown",
      "source": [
        "### **2. Importing Necessary Modules**"
      ],
      "metadata": {
        "id": "VqbC4ieK13sm"
      }
    },
    {
      "cell_type": "code",
      "source": [
        "import numpy as np\n",
        "import matplotlib.pyplot as plt\n",
        "from sklearn.decomposition import PCA\n",
        "from sklearn.datasets import load_digits"
      ],
      "metadata": {
        "id": "emxbvfX5yRU1"
      },
      "execution_count": 30,
      "outputs": []
    },
    {
      "cell_type": "markdown",
      "source": [
        "### **3. Loading the datatset**"
      ],
      "metadata": {
        "id": "bT4CTPVm19aZ"
      }
    },
    {
      "cell_type": "code",
      "source": [
        "# Load the Digits dataset\n",
        "digits = load_digits()\n",
        "X = digits.data\n",
        "y = digits.target"
      ],
      "metadata": {
        "id": "j4-ZKuDcyZEU"
      },
      "execution_count": 31,
      "outputs": []
    },
    {
      "cell_type": "markdown",
      "source": [
        "### **4. Applying PCA and reducing the image**"
      ],
      "metadata": {
        "id": "-n5etZJf2FJ1"
      }
    },
    {
      "cell_type": "code",
      "source": [
        "# Randomly select an image for demonstration\n",
        "random_image_index = np.random.randint(0, X.shape[0])\n",
        "\n",
        "# Define the number of principal components you want to keep\n",
        "n_components = int(input(\"Enter the number of components you want to keep (in the range of 0 to 64): \"))\n",
        "\n",
        "# Apply PCA to the image data\n",
        "pca = PCA(n_components=n_components)\n",
        "X_pca = pca.fit_transform(X)\n",
        "\n",
        "# Inverse transform to get the reduced-dimension image\n",
        "X_inverse = pca.inverse_transform(X_pca)"
      ],
      "metadata": {
        "colab": {
          "base_uri": "https://localhost:8080/"
        },
        "id": "1TsSSFR3yi7x",
        "outputId": "ea8a130e-06e6-4998-daaf-bb430a7d1e2e"
      },
      "execution_count": 52,
      "outputs": [
        {
          "name": "stdout",
          "output_type": "stream",
          "text": [
            "Enter the number of components you want to keep (in the range of 0 to 64): 0\n"
          ]
        }
      ]
    },
    {
      "cell_type": "markdown",
      "source": [
        "### **5. Displaying the reduced image**"
      ],
      "metadata": {
        "id": "MhJN70II2Tyb"
      }
    },
    {
      "cell_type": "code",
      "source": [
        "# Original image\n",
        "original_image = X[random_image_index].reshape(8, 8)\n",
        "\n",
        "# Reduced-dimension image\n",
        "reduced_image = X_inverse[random_image_index].reshape(8, 8)\n",
        "\n",
        "# Plot the original and reduced images\n",
        "plt.figure(figsize=(8, 4))\n",
        "plt.subplot(1, 2, 1)\n",
        "plt.imshow(original_image, cmap='gray')\n",
        "plt.title('Original Image')\n",
        "plt.axis('off')\n",
        "\n",
        "plt.subplot(1, 2, 2)\n",
        "plt.imshow(reduced_image, cmap='gray')\n",
        "plt.title(f'Reduced to {n_components} Components')\n",
        "plt.axis('off')\n",
        "\n",
        "plt.show()\n",
        "\n"
      ],
      "metadata": {
        "colab": {
          "base_uri": "https://localhost:8080/",
          "height": 341
        },
        "id": "UlbzCCVFynKk",
        "outputId": "512b3526-2745-45f1-e67c-53c05aacec5c"
      },
      "execution_count": 53,
      "outputs": [
        {
          "output_type": "display_data",
          "data": {
            "text/plain": [
              "<Figure size 800x400 with 2 Axes>"
            ],
            "image/png": "[encoded data removed]"
          },
          "metadata": {}
        }
      ]
    }
  ]
}