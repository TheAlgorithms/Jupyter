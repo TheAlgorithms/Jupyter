{
 "cells": [
  {
   "cell_type": "markdown",
   "metadata": {},
   "source": [
    "# Linear Regression"
   ]
  },
  {
   "cell_type": "code",
   "execution_count": 1,
   "metadata": {},
   "outputs": [
    {
     "name": "stdout",
     "output_type": "stream",
     "text": [
      "\n",
      "Call:\n",
      "lm(formula = y ~ x)\n",
      "\n",
      "Coefficients:\n",
      "(Intercept)            x  \n",
      "   47.50833      0.07276  \n",
      "\n"
     ]
    }
   ],
   "source": [
    "#Creating input vector for lm() function  \n",
    "x <- c(141, 134, 178, 156, 108, 116, 119, 143, 162, 130)  \n",
    "y <- c(62, 85, 56, 21, 47, 17, 76, 92, 62, 58)  \n",
    "# Applying the lm() function.  \n",
    "relationship_model<- lm(y~x)  \n",
    "#Printing the coefficient   \n",
    "print(relationship_model)  "
   ]
  },
  {
   "cell_type": "code",
   "execution_count": 2,
   "metadata": {},
   "outputs": [
    {
     "name": "stdout",
     "output_type": "stream",
     "text": [
      "\n",
      "Call:\n",
      "lm(formula = y ~ x)\n",
      "\n",
      "Residuals:\n",
      "    Min      1Q  Median      3Q     Max \n",
      "-38.948  -7.390   1.869  15.933  34.087 \n",
      "\n",
      "Coefficients:\n",
      "            Estimate Std. Error t value Pr(>|t|)\n",
      "(Intercept) 47.50833   55.18118   0.861    0.414\n",
      "x            0.07276    0.39342   0.185    0.858\n",
      "\n",
      "Residual standard error: 25.96 on 8 degrees of freedom\n",
      "Multiple R-squared:  0.004257,\tAdjusted R-squared:  -0.1202 \n",
      "F-statistic: 0.0342 on 1 and 8 DF,  p-value: 0.8579\n",
      "\n"
     ]
    }
   ],
   "source": [
    "#Creating input vector for lm() function  \n",
    "x <- c(141, 134, 178, 156, 108, 116, 119, 143, 162, 130)  \n",
    "y <- c(62, 85, 56, 21, 47, 17, 76, 92, 62, 58)  \n",
    "  \n",
    "# Applying the lm() function.  \n",
    "relationship_model<- lm(y~x)  \n",
    "  \n",
    "#Printing the coefficient   \n",
    "print(summary(relationship_model))  "
   ]
  },
  {
   "cell_type": "code",
   "execution_count": 8,
   "metadata": {},
   "outputs": [
    {
     "name": "stdout",
     "output_type": "stream",
     "text": [
      "       1 \n",
      "59.87736 \n"
     ]
    }
   ],
   "source": [
    "#Creating input vector for lm() function  \n",
    "x <- c(141, 134, 178, 156, 108, 116, 119, 143, 162, 130)  \n",
    "y <- c(62, 85, 56, 21, 47, 17, 76, 92, 62, 58)  \n",
    "  \n",
    "# Applying the lm() function.  \n",
    "relationship_model<- lm(y~x)  \n",
    "  \n",
    "# Finding the weight of a person with height 170.  \n",
    "z <- data.frame(x = 170)  \n",
    "predict_result<-  predict(relationship_model,z)  \n",
    "print(predict_result) "
   ]
  },
  {
   "cell_type": "code",
   "execution_count": 17,
   "metadata": {},
   "outputs": [
    {
     "data": {
      "image/png": "[encoded data removed]",
      "text/plain": [
       "Plot with title \"Height and Weight Regression\""
      ]
     },
     "metadata": {},
     "output_type": "display_data"
    }
   ],
   "source": [
    "#Creating input vector for lm() function  \n",
    "x <- c(141, 134, 178, 156, 108, 116, 119, 143, 162, 130)  \n",
    "y <- c(62, 85, 56, 21, 47, 17, 76, 92, 62, 58)  \n",
    "relationship_model<- lm(y~x)  \n",
    "\n",
    "# Plotting the chart.  \n",
    "plot(y,x,col = \"blue\",main = \"Height and Weight Regression\",abline(lm(x~y)),\n",
    "     cex = 1,pch = 16,xlab = \"Weight in Kg\",ylab = \"Height in cm\")   "
   ]
  },
  {
   "cell_type": "markdown",
   "metadata": {},
   "source": [
    "# Multiple Regression"
   ]
  },
  {
   "cell_type": "code",
   "execution_count": 20,
   "metadata": {},
   "outputs": [
    {
     "name": "stdout",
     "output_type": "stream",
     "text": [
      "                   mpg    wt disp  hp\n",
      "Mazda RX4         21.0 2.620  160 110\n",
      "Mazda RX4 Wag     21.0 2.875  160 110\n",
      "Datsun 710        22.8 2.320  108  93\n",
      "Hornet 4 Drive    21.4 3.215  258 110\n",
      "Hornet Sportabout 18.7 3.440  360 175\n",
      "Valiant           18.1 3.460  225 105\n"
     ]
    }
   ],
   "source": [
    "data<-mtcars[,c(\"mpg\",\"wt\",\"disp\",\"hp\")]  \n",
    "print(head(data))  "
   ]
  },
  {
   "cell_type": "code",
   "execution_count": 19,
   "metadata": {},
   "outputs": [
    {
     "name": "stdout",
     "output_type": "stream",
     "text": [
      "\n",
      "Call:\n",
      "lm(formula = mpg ~ wt + disp + hp, data = input)\n",
      "\n",
      "Coefficients:\n",
      "(Intercept)           wt         disp           hp  \n",
      "  37.105505    -3.800891    -0.000937    -0.031157  \n",
      "\n"
     ]
    }
   ],
   "source": [
    "#Creating input data.  \n",
    "input <- mtcars[,c(\"mpg\",\"wt\",\"disp\",\"hp\")]  \n",
    "# Creating the relationship model.  \n",
    "Model <- lm(mpg~wt+disp+hp, data = input)  \n",
    "# Showing the Model.  \n",
    "print(Model)  "
   ]
  },
  {
   "cell_type": "markdown",
   "metadata": {},
   "source": [
    "# Logistic Regression"
   ]
  },
  {
   "cell_type": "code",
   "execution_count": 2,
   "metadata": {
    "scrolled": true
   },
   "outputs": [
    {
     "name": "stdout",
     "output_type": "stream",
     "text": [
      "                  am cyl  hp    wt\n",
      "Mazda RX4          1   6 110 2.620\n",
      "Mazda RX4 Wag      1   6 110 2.875\n",
      "Datsun 710         1   4  93 2.320\n",
      "Hornet 4 Drive     0   6 110 3.215\n",
      "Hornet Sportabout  0   8 175 3.440\n",
      "Valiant            0   6 105 3.460\n"
     ]
    }
   ],
   "source": [
    "# Select some columns form mtcars.\n",
    "input <- mtcars[,c(\"am\",\"cyl\",\"hp\",\"wt\")]\n",
    "\n",
    "print(head(input))"
   ]
  },
  {
   "cell_type": "code",
   "execution_count": 4,
   "metadata": {
    "scrolled": true
   },
   "outputs": [
    {
     "name": "stdout",
     "output_type": "stream",
     "text": [
      "\n",
      "Call:\n",
      "glm(formula = am ~ cyl + hp + wt, family = binomial, data = input)\n",
      "\n",
      "Deviance Residuals: \n",
      "     Min        1Q    Median        3Q       Max  \n",
      "-2.17272  -0.14907  -0.01464   0.14116   1.27641  \n",
      "\n",
      "Coefficients:\n",
      "            Estimate Std. Error z value Pr(>|z|)  \n",
      "(Intercept) 19.70288    8.11637   2.428   0.0152 *\n",
      "cyl          0.48760    1.07162   0.455   0.6491  \n",
      "hp           0.03259    0.01886   1.728   0.0840 .\n",
      "wt          -9.14947    4.15332  -2.203   0.0276 *\n",
      "---\n",
      "Signif. codes:  0 '***' 0.001 '**' 0.01 '*' 0.05 '.' 0.1 ' ' 1\n",
      "\n",
      "(Dispersion parameter for binomial family taken to be 1)\n",
      "\n",
      "    Null deviance: 43.2297  on 31  degrees of freedom\n",
      "Residual deviance:  9.8415  on 28  degrees of freedom\n",
      "AIC: 17.841\n",
      "\n",
      "Number of Fisher Scoring iterations: 8\n",
      "\n"
     ]
    }
   ],
   "source": [
    "input <- mtcars[,c(\"am\",\"cyl\",\"hp\",\"wt\")]\n",
    "am.data = glm(formula = am ~ cyl + hp + wt, data = input, family = binomial)\n",
    "print(summary(am.data))"
   ]
  },
  {
   "cell_type": "markdown",
   "metadata": {},
   "source": [
    "# Poisson Regression"
   ]
  },
  {
   "cell_type": "code",
   "execution_count": 29,
   "metadata": {},
   "outputs": [
    {
     "name": "stdout",
     "output_type": "stream",
     "text": [
      "  breaks wool tension\n",
      "1     26    A       L\n",
      "2     30    A       L\n",
      "3     54    A       L\n",
      "4     25    A       L\n",
      "5     70    A       L\n",
      "6     52    A       L\n"
     ]
    }
   ],
   "source": [
    "#Creting data for the poisson regression  \n",
    "reg_data<-warpbreaks  \n",
    "print(head(reg_data))"
   ]
  },
  {
   "cell_type": "code",
   "execution_count": 25,
   "metadata": {},
   "outputs": [
    {
     "data": {
      "text/plain": [
       "\n",
       "Call:  glm(formula = breaks ~ wool + tension, family = poisson, data = warpbreaks)\n",
       "\n",
       "Coefficients:\n",
       "(Intercept)        woolB     tensionM     tensionH  \n",
       "     3.6920      -0.2060      -0.3213      -0.5185  \n",
       "\n",
       "Degrees of Freedom: 53 Total (i.e. Null);  50 Residual\n",
       "Null Deviance:\t    297.4 \n",
       "Residual Deviance: 210.4 \tAIC: 493.1"
      ]
     },
     "metadata": {},
     "output_type": "display_data"
    }
   ],
   "source": [
    "#Creating Poisson Regression Model using glm() function  \n",
    "output_result <-glm(formula = breaks ~ wool+tension, data = warpbreaks,family = poisson)  \n",
    "output_result  "
   ]
  },
  {
   "cell_type": "code",
   "execution_count": 26,
   "metadata": {},
   "outputs": [
    {
     "name": "stdout",
     "output_type": "stream",
     "text": [
      "\n",
      "Call:\n",
      "glm(formula = breaks ~ wool + tension, family = poisson, data = warpbreaks)\n",
      "\n",
      "Deviance Residuals: \n",
      "    Min       1Q   Median       3Q      Max  \n",
      "-3.6871  -1.6503  -0.4269   1.1902   4.2616  \n",
      "\n",
      "Coefficients:\n",
      "            Estimate Std. Error z value Pr(>|z|)    \n",
      "(Intercept)  3.69196    0.04541  81.302  < 2e-16 ***\n",
      "woolB       -0.20599    0.05157  -3.994 6.49e-05 ***\n",
      "tensionM    -0.32132    0.06027  -5.332 9.73e-08 ***\n",
      "tensionH    -0.51849    0.06396  -8.107 5.21e-16 ***\n",
      "---\n",
      "Signif. codes:  0 '***' 0.001 '**' 0.01 '*' 0.05 '.' 0.1 ' ' 1\n",
      "\n",
      "(Dispersion parameter for poisson family taken to be 1)\n",
      "\n",
      "    Null deviance: 297.37  on 53  degrees of freedom\n",
      "Residual deviance: 210.39  on 50  degrees of freedom\n",
      "AIC: 493.06\n",
      "\n",
      "Number of Fisher Scoring iterations: 4\n",
      "\n"
     ]
    }
   ],
   "source": [
    "#Using summary function  \n",
    "print(summary(output_result))  "
   ]
  },
  {
   "cell_type": "code",
   "execution_count": null,
   "metadata": {},
   "outputs": [],
   "source": []
  }
 ],
 "metadata": {
  "kernelspec": {
   "display_name": "R",
   "language": "R",
   "name": "ir"
  },
  "language_info": {
   "codemirror_mode": "r",
   "file_extension": ".r",
   "mimetype": "text/x-r-source",
   "name": "R",
   "pygments_lexer": "r",
   "version": "3.6.1"
  }
 },
 "nbformat": 4,
 "nbformat_minor": 4
}
