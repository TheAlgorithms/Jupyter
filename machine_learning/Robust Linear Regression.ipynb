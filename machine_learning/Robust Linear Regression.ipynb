{
 "cells": [
  {
   "cell_type": "markdown",
   "id": "681773a2",
   "metadata": {},
   "source": [
    "# Robust Linear Regression\n",
    "\n",
    "In this notebook, we demonstrate HuberRegressor class from scikit-learn which is robust to outliers."
   ]
  },
  {
   "cell_type": "code",
   "execution_count": 1,
   "id": "2dc1c06a",
   "metadata": {},
   "outputs": [],
   "source": [
    "import numpy as np\n",
    "from sklearn.linear_model import HuberRegressor, LinearRegression\n",
    "from sklearn.datasets import make_regression\n",
    "import matplotlib.pyplot as plt"
   ]
  },
  {
   "cell_type": "markdown",
   "id": "99095791",
   "metadata": {},
   "source": [
    "**Creating a regression problem using make_regression method**"
   ]
  },
  {
   "cell_type": "code",
   "execution_count": 2,
   "id": "7c32f354",
   "metadata": {},
   "outputs": [],
   "source": [
    "rng = np.random.RandomState(0)\n",
    "\n",
    "X, y, coef = make_regression(n_samples = 200, n_features = 2, noise = 4.0, coef = True, random_state = 0)"
   ]
  },
  {
   "cell_type": "markdown",
   "id": "7e25a9f6",
   "metadata": {},
   "source": [
    "**Plot**"
   ]
  },
  {
   "cell_type": "code",
   "execution_count": 3,
   "id": "0b521419",
   "metadata": {},
   "outputs": [
    {
     "data": {
      "image/png": "[encoded data removed]",
      "text/plain": [
       "<Figure size 720x216 with 2 Axes>"
      ]
     },
     "metadata": {
      "needs_background": "light"
     },
     "output_type": "display_data"
    }
   ],
   "source": [
    "fix, ax = plt.subplots(1, 2, figsize = (10, 3))\n",
    "ax[0].scatter(X[:,0], y)\n",
    "ax[0].grid(True)\n",
    "ax[1].scatter(X[:,1], y)\n",
    "ax[1].grid(True)\n",
    "plt.show()"
   ]
  },
  {
   "cell_type": "markdown",
   "id": "7ed266d1",
   "metadata": {},
   "source": [
    "**Inserting random outliers in the data**"
   ]
  },
  {
   "cell_type": "code",
   "execution_count": 4,
   "id": "1efd96b2",
   "metadata": {},
   "outputs": [],
   "source": [
    "X[:4] = rng.uniform(10, 20, (4, 2))\n",
    "y[:4] = rng.uniform(100, 200, 4)"
   ]
  },
  {
   "cell_type": "markdown",
   "id": "505d0301",
   "metadata": {},
   "source": [
    "**Plot to show the inserted outlier**"
   ]
  },
  {
   "cell_type": "code",
   "execution_count": 5,
   "id": "dc21f8e4",
   "metadata": {},
   "outputs": [
    {
     "data": {
      "image/png": "[encoded data removed]",
      "text/plain": [
       "<Figure size 720x216 with 2 Axes>"
      ]
     },
     "metadata": {
      "needs_background": "light"
     },
     "output_type": "display_data"
    }
   ],
   "source": [
    "fix, ax = plt.subplots(1, 2, figsize = (10, 3))\n",
    "ax[0].scatter(X[:,0], y)\n",
    "ax[0].grid(True)\n",
    "ax[1].scatter(X[:,1], y)\n",
    "ax[1].grid(True)\n",
    "plt.show()"
   ]
  },
  {
   "cell_type": "markdown",
   "id": "e3bf337f",
   "metadata": {},
   "source": [
    "**Create a HuberRegressor object and fit**\n",
    "\n",
    "The Huber Regressor optimizes the squared loss for the samples where $|\\frac{y - X'w}{\\sigma}| &lt; \\epsilon$ and the absolute loss for the samples where $|\\frac{y - X'w}{\\sigma}| &lt; \\epsilon$, where $w$ and $\\sigma$ are parameters to be optimized.\n",
    "\n",
    "The parameter $\\sigma$ makes sure that if $y$ is scaled up or down by a certain factor, one does not need to rescale epsilon to achieve the same robustness. Note that this does not take into account the fact that the different features of $X$ may be of different scales."
   ]
  },
  {
   "cell_type": "code",
   "execution_count": 6,
   "id": "5ec880ba",
   "metadata": {},
   "outputs": [],
   "source": [
    "huber = HuberRegressor()"
   ]
  },
  {
   "cell_type": "code",
   "execution_count": 7,
   "id": "6bd3684c",
   "metadata": {},
   "outputs": [
    {
     "data": {
      "text/plain": [
       "HuberRegressor()"
      ]
     },
     "execution_count": 7,
     "metadata": {},
     "output_type": "execute_result"
    }
   ],
   "source": [
    "huber.fit(X, y)"
   ]
  },
  {
   "cell_type": "code",
   "execution_count": 8,
   "id": "62c25065",
   "metadata": {},
   "outputs": [
    {
     "data": {
      "text/plain": [
       "array([[16.02763376, 15.44883183]])"
      ]
     },
     "execution_count": 8,
     "metadata": {},
     "output_type": "execute_result"
    }
   ],
   "source": [
    "X[1].reshape(1, -1)"
   ]
  },
  {
   "cell_type": "code",
   "execution_count": 9,
   "id": "96837c28",
   "metadata": {},
   "outputs": [
    {
     "data": {
      "text/plain": [
       "array([763.50484115])"
      ]
     },
     "execution_count": 9,
     "metadata": {},
     "output_type": "execute_result"
    }
   ],
   "source": [
    "huber.predict(X[1].reshape(1, -1))"
   ]
  },
  {
   "cell_type": "markdown",
   "id": "0ecbda8e",
   "metadata": {},
   "source": [
    "**A simple linear regression fir for comparison**"
   ]
  },
  {
   "cell_type": "code",
   "execution_count": 10,
   "id": "ef2a97d4",
   "metadata": {},
   "outputs": [],
   "source": [
    "linear = LinearRegression()"
   ]
  },
  {
   "cell_type": "code",
   "execution_count": 11,
   "id": "0df053ad",
   "metadata": {},
   "outputs": [
    {
     "data": {
      "text/plain": [
       "LinearRegression()"
      ]
     },
     "execution_count": 11,
     "metadata": {},
     "output_type": "execute_result"
    }
   ],
   "source": [
    "linear.fit(X, y)"
   ]
  },
  {
   "cell_type": "markdown",
   "id": "60189bf7",
   "metadata": {},
   "source": [
    "**Compare the estimated coefficients**\n",
    "\n",
    "As we will see, the Huber regressor estimates the coefficients, in the presence of outliers, far better (closer to the true values) than a simple linear model."
   ]
  },
  {
   "cell_type": "code",
   "execution_count": 12,
   "id": "c9e56d9b",
   "metadata": {},
   "outputs": [
    {
     "name": "stdout",
     "output_type": "stream",
     "text": [
      "True coefficients: [20.4923687  34.16981149]\n",
      "Huber coefficients: [17.79064226 31.01065329]\n",
      "Linear Regression coefficients: [ 1.97461433 11.65050932]\n"
     ]
    }
   ],
   "source": [
    "print(\"True coefficients:\", coef)\n",
    "print(\"Huber coefficients:\", huber.coef_)\n",
    "print(\"Linear Regression coefficients:\", linear.coef_)"
   ]
  },
  {
   "cell_type": "code",
   "execution_count": 13,
   "id": "2d682f94",
   "metadata": {},
   "outputs": [
    {
     "data": {
      "image/png": "[encoded data removed]",
      "text/plain": [
       "<Figure size 864x216 with 2 Axes>"
      ]
     },
     "metadata": {
      "needs_background": "light"
     },
     "output_type": "display_data"
    }
   ],
   "source": [
    "fix, ax = plt.subplots(1, 2, figsize = (12, 3), sharey = True)\n",
    "ax[0].barh(['True coef', 'Huber coef', 'Linear fit coef'], width = [coef[0], huber.coef_[0], linear.coef_[0]])\n",
    "ax[0].set_title(\"1st coefficients\", fontsize = 15)\n",
    "ax[1].barh(['True coef', 'Huber coef', 'Linear fit coef'], width = [coef[1], huber.coef_[1], linear.coef_[1]])\n",
    "ax[1].set_title(\"2nd coefficients\", fontsize = 15)\n",
    "plt.show()"
   ]
  }
 ],
 "metadata": {
  "kernelspec": {
   "display_name": "Python 3",
   "language": "python",
   "name": "python3"
  },
  "language_info": {
   "codemirror_mode": {
    "name": "ipython",
    "version": 3
   },
   "file_extension": ".py",
   "mimetype": "text/x-python",
   "name": "python",
   "nbconvert_exporter": "python",
   "pygments_lexer": "ipython3",
   "version": "3.8.10"
  }
 },
 "nbformat": 4,
 "nbformat_minor": 5
}
