{
 "nbformat": 4,
 "nbformat_minor": 0,
 "metadata": {
  "colab": {
   "name": "Logistic_Regression.ipynb",
   "provenance": [],
   "collapsed_sections": []
  },
  "kernelspec": {
   "name": "python3",
   "display_name": "Python 3"
  }
 },
 "cells": [
  {
   "cell_type": "code",
   "metadata": {
    "id": "Z92lOynIOJ6F"
   },
   "source": [
    "import numpy as np\n",
    "import pandas as pd\n",
    "import sklearn"
   ],
   "execution_count": 1,
   "outputs": []
  },
  {
   "cell_type": "markdown",
   "metadata": {
    "id": "7lnfVxLRUWVJ"
   },
   "source": [
    "### Importing the MNIST Dataset to perform Multi-Class Classification.\n",
    "\n",
    " MNIST is a large database of handwritten digits that is commonly used for training various image processing systems.\n",
    "\n",
    "[More Information in Wikipedia](https://en.wikipedia.org/wiki/MNIST_database)"
   ]
  },
  {
   "cell_type": "code",
   "metadata": {
    "id": "EfVLE_QFOTqZ"
   },
   "source": [
    "from sklearn.datasets import fetch_openml\n",
    "\n",
    "X, y = fetch_openml(\"mnist_784\", return_X_y=True)"
   ],
   "execution_count": 2,
   "outputs": []
  },
  {
   "cell_type": "markdown",
   "metadata": {
    "id": "2_bW4AE3VlXI"
   },
   "source": [
    "### Shape of the dataset"
   ]
  },
  {
   "cell_type": "code",
   "metadata": {
    "id": "1gT6BisBPSaa",
    "outputId": "edc55b8c-6f7f-4aa2-9e73-f9ade280ff1b",
    "colab": {
     "base_uri": "https://localhost:8080/",
     "height": 34
    }
   },
   "source": [
    "X.shape"
   ],
   "execution_count": 3,
   "outputs": [
    {
     "output_type": "execute_result",
     "data": {
      "text/plain": [
       "(70000, 784)"
      ]
     },
     "metadata": {
      "tags": []
     },
     "execution_count": 3
    }
   ]
  },
  {
   "cell_type": "markdown",
   "metadata": {
    "id": "Iyllwdh6VwNi"
   },
   "source": [
    "### Visualizing the first 5 images in the dataset\n",
    "We are reshaping the each array as a 28X28 Image so that we can plot it"
   ]
  },
  {
   "cell_type": "code",
   "metadata": {
    "id": "kSE_BTLROuc6",
    "outputId": "b4273e3f-ada8-40bb-9cc5-e09086b83ec9",
    "colab": {
     "base_uri": "https://localhost:8080/",
     "height": 1000
    }
   },
   "source": [
    "import matplotlib.pyplot as plt\n",
    "\n",
    "for i in range(5):\n",
    "    plt.imshow(X[i].reshape((28, 28)))\n",
    "    plt.show()"
   ],
   "execution_count": 4,
   "outputs": [
    {
     "output_type": "display_data",
     "data": {
      "image/png": "[encoded data removed]",
      "text/plain": [
       "<Figure size 432x288 with 1 Axes>"
      ]
     },
     "metadata": {
      "tags": [],
      "needs_background": "light"
     }
    },
    {
     "output_type": "display_data",
     "data": {
      "image/png": "[encoded data removed]",
      "text/plain": [
       "<Figure size 432x288 with 1 Axes>"
      ]
     },
     "metadata": {
      "tags": [],
      "needs_background": "light"
     }
    },
    {
     "output_type": "display_data",
     "data": {
      "image/png": "[encoded data removed]",
      "text/plain": [
       "<Figure size 432x288 with 1 Axes>"
      ]
     },
     "metadata": {
      "tags": [],
      "needs_background": "light"
     }
    },
    {
     "output_type": "display_data",
     "data": {
      "image/png": "[encoded data removed]",
      "text/plain": [
       "<Figure size 432x288 with 1 Axes>"
      ]
     },
     "metadata": {
      "tags": [],
      "needs_background": "light"
     }
    },
    {
     "output_type": "display_data",
     "data": {
      "image/png": "[encoded data removed]",
      "text/plain": [
       "<Figure size 432x288 with 1 Axes>"
      ]
     },
     "metadata": {
      "tags": [],
      "needs_background": "light"
     }
    }
   ]
  },
  {
   "cell_type": "markdown",
   "metadata": {
    "id": "pykhAfmSV-Pj"
   },
   "source": [
    "## Importing the Logistic Regression Model from Scikit-Learn and Data Processing\n",
    "1. We are decreasing the size of the dataset for training.\n",
    "2. Then, we scale the data.\n",
    "3. Finally, we split the dataset into training and test sets"
   ]
  },
  {
   "cell_type": "code",
   "metadata": {
    "id": "xdkrb42NREk_"
   },
   "source": [
    "from sklearn.linear_model import LogisticRegression\n",
    "from sklearn.model_selection import train_test_split\n",
    "from sklearn import preprocessing\n",
    "\n",
    "# STEP 1\n",
    "X, y = X[:10_000], y[:10_000]\n",
    "\n",
    "# STEP 2\n",
    "X_scaled = preprocessing.scale(X)\n",
    "\n",
    "# STEP 3\n",
    "X_train, X_test, y_train, y_test = train_test_split(X_scaled, y, random_state=42)"
   ],
   "execution_count": 5,
   "outputs": []
  },
  {
   "cell_type": "markdown",
   "metadata": {
    "id": "67lvYLhpWlae"
   },
   "source": [
    "## Then, we finally train the Logistic Regression Model."
   ]
  },
  {
   "cell_type": "code",
   "metadata": {
    "id": "KcF8NimlRJ6D",
    "outputId": "6d53c5aa-6f9b-493b-aa33-af2834bdd074",
    "colab": {
     "base_uri": "https://localhost:8080/",
     "height": 34
    }
   },
   "source": [
    "model = LogisticRegression(random_state=0, max_iter=2000)\n",
    "model.fit(X_train, y_train)\n",
    "print(\"Model Training Completed!\")"
   ],
   "execution_count": 6,
   "outputs": [
    {
     "output_type": "stream",
     "text": [
      "Model Training Completed!\n"
     ],
     "name": "stdout"
    }
   ]
  },
  {
   "cell_type": "markdown",
   "metadata": {
    "id": "-7oR9y0LWxJi"
   },
   "source": [
    "### We now measuring the accuracy score of the model that we have trained."
   ]
  },
  {
   "cell_type": "code",
   "metadata": {
    "id": "7_bzupDURJ8K",
    "outputId": "22cc5fad-d5cf-402b-9ad0-2e43048ccf77",
    "colab": {
     "base_uri": "https://localhost:8080/",
     "height": 34
    }
   },
   "source": [
    "from sklearn.metrics import accuracy_score\n",
    "\n",
    "preds = model.predict(X_test)\n",
    "score = accuracy_score(y_test, preds)\n",
    "print(f\"Model's accuracy score is : {round(score*100, 2)} %\")"
   ],
   "execution_count": 7,
   "outputs": [
    {
     "output_type": "stream",
     "text": [
      "Model's accuracy score is : 89.76 %\n"
     ],
     "name": "stdout"
    }
   ]
  },
  {
   "cell_type": "markdown",
   "metadata": {
    "id": "qn72FRPmXFxM"
   },
   "source": [
    "### Demonstrating the model's predictions on one of the image from our test-set."
   ]
  },
  {
   "cell_type": "code",
   "metadata": {
    "id": "hx73JlHWRJ-4",
    "outputId": "3f0d7f4d-8cb7-44c9-b0f3-77436246d035",
    "colab": {
     "base_uri": "https://localhost:8080/",
     "height": 299
    }
   },
   "source": [
    "pred = model.predict(X_test[45].reshape(-1, 784))\n",
    "print(f\"Model's Prediction : {pred}\")\n",
    "print(\"*\" * 30)\n",
    "\n",
    "plt.imshow(X_test[45].reshape(28, 28))\n",
    "plt.show()"
   ],
   "execution_count": 8,
   "outputs": [
    {
     "output_type": "stream",
     "text": [
      "Model's Prediction : ['6']\n",
      "******************************\n"
     ],
     "name": "stdout"
    },
    {
     "output_type": "display_data",
     "data": {
      "image/png": "[encoded data removed]",
      "text/plain": [
       "<Figure size 432x288 with 1 Axes>"
      ]
     },
     "metadata": {
      "tags": [],
      "needs_background": "light"
     }
    }
   ]
  },
  {
   "cell_type": "code",
   "metadata": {
    "id": "CFxqw8E3RKBG"
   },
   "source": [
    ""
   ],
   "execution_count": 8,
   "outputs": []
  },
  {
   "cell_type": "code",
   "metadata": {
    "id": "5unm_59DaBIq"
   },
   "source": [
    ""
   ],
   "execution_count": 8,
   "outputs": []
  }
 ]
}