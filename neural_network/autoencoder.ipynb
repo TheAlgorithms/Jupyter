{
 "nbformat": 4,
 "nbformat_minor": 0,
 "metadata": {
  "colab": {
   "name": "autoencoder.ipynb",
   "provenance": [],
   "collapsed_sections": []
  },
  "kernelspec": {
   "name": "python3",
   "display_name": "Python 3"
  },
  "accelerator": "GPU"
 },
 "cells": [
  {
   "cell_type": "code",
   "metadata": {
    "id": "M80SNUtte322",
    "colab_type": "code",
    "colab": {}
   },
   "source": [
    "# Importing Packages and dataset\n",
    "import tensorflow as tf\n",
    "import numpy as np\n",
    "from matplotlib import pyplot as plt\n",
    "from tensorflow.keras.layers import (\n",
    "    Input,\n",
    "    Conv2D,\n",
    "    MaxPooling2D,\n",
    "    UpSampling2D,\n",
    "    Conv2DTranspose,\n",
    ")\n",
    "from tensorflow.keras.models import Model\n",
    "from tensorflow.keras.optimizers import Adam, RMSprop\n",
    "from tensorflow.keras import backend as K\n",
    "import sklearn\n",
    "from sklearn.model_selection import train_test_split\n",
    "\n",
    "# Setting up the dataset\n",
    "(x_train, y_train), (x_test, y_test) = tf.keras.datasets.mnist.load_data()\n",
    "\n",
    "# Reshaping the data as per the model requirement\n",
    "x_train = x_train.reshape(-1, 28, 28, 1) / 255\n",
    "x_test = x_test.reshape(-1, 28, 28, 1) / 255\n",
    "\n",
    "# Splitting the data for validation\n",
    "X, X_val, Y, Y_val = train_test_split(x_train, x_train, test_size=0.2)"
   ],
   "execution_count": 1,
   "outputs": []
  },
  {
   "cell_type": "code",
   "metadata": {
    "id": "U8h6JqK3e8iz",
    "colab_type": "code",
    "colab": {}
   },
   "source": [
    "# Define the autoencoder model\n",
    "class AutoEncoder(tf.keras.Model):\n",
    "    def __init__(self):\n",
    "        super(AutoEncoder, self).__init__()\n",
    "        self.encoder = tf.keras.Sequential(\n",
    "            [\n",
    "                Conv2D(256, (3, 3), activation=\"relu\", padding=\"same\"),\n",
    "                Conv2D(128, (3, 3), activation=\"relu\", padding=\"same\"),\n",
    "                Conv2D(64, (3, 3), activation=\"relu\", padding=\"same\"),\n",
    "                MaxPooling2D(pool_size=(2, 2)),\n",
    "                Conv2D(32, (3, 3), activation=\"relu\", padding=\"same\"),\n",
    "                Conv2D(16, (3, 3), activation=\"relu\", padding=\"same\"),\n",
    "                Conv2D(8, (1, 1), activation=\"relu\", padding=\"same\"),\n",
    "                MaxPooling2D(pool_size=(2, 2)),\n",
    "                Conv2D(4, (3, 3), activation=\"relu\", padding=\"same\"),\n",
    "                Conv2D(2, (1, 1), activation=\"relu\", padding=\"same\"),\n",
    "                Conv2D(1, (1, 1), activation=\"relu\", padding=\"same\"),\n",
    "            ]\n",
    "        )\n",
    "        self.decoder = tf.keras.Sequential(\n",
    "            [\n",
    "                Conv2D(2, (1, 1), activation=\"relu\", padding=\"same\"),\n",
    "                Conv2D(4, (3, 3), activation=\"relu\", padding=\"same\"),\n",
    "                Conv2D(8, (3, 3), activation=\"relu\", padding=\"same\"),\n",
    "                UpSampling2D(size=(2, 2)),\n",
    "                Conv2D(16, (3, 3), activation=\"relu\", padding=\"same\"),\n",
    "                Conv2D(32, (3, 3), activation=\"relu\", padding=\"same\"),\n",
    "                Conv2D(64, (3, 3), activation=\"relu\", padding=\"same\"),\n",
    "                UpSampling2D(size=(2, 2)),\n",
    "                Conv2D(128, (3, 3), activation=\"relu\", padding=\"same\"),\n",
    "                Conv2D(256, (3, 3), activation=\"relu\", padding=\"same\"),\n",
    "                Conv2D(1, (3, 3), activation=\"tanh\", padding=\"same\"),\n",
    "            ]\n",
    "        )\n",
    "        self.train()\n",
    "\n",
    "    def call(self, inputs):\n",
    "        if self.e:\n",
    "            inputs = self.encoder(inputs)\n",
    "        if self.d:\n",
    "            inputs = self.decoder(inputs)\n",
    "        return inputs\n",
    "\n",
    "    def encode(self):\n",
    "        self.e = True\n",
    "        self.d = False\n",
    "\n",
    "    def decode(self):\n",
    "        self.e = False\n",
    "        self.d = True\n",
    "\n",
    "    def train(self):\n",
    "        self.e = True\n",
    "        self.d = True"
   ],
   "execution_count": 2,
   "outputs": []
  },
  {
   "cell_type": "code",
   "metadata": {
    "id": "7mVDGN68fRoh",
    "colab_type": "code",
    "colab": {}
   },
   "source": [
    "# Create a object of model class\n",
    "model = AutoEncoder()\n",
    "# Compile the model with MSE loss and Adam optimizer\n",
    "model.compile(loss=\"mean_squared_error\", optimizer=Adam())"
   ],
   "execution_count": 3,
   "outputs": []
  },
  {
   "cell_type": "code",
   "metadata": {
    "id": "DTr9vVCriitJ",
    "colab_type": "code",
    "colab": {}
   },
   "source": [
    "# Build the model\n",
    "model.build(input_shape=(None, 28, 28, 1))"
   ],
   "execution_count": 4,
   "outputs": []
  },
  {
   "cell_type": "code",
   "metadata": {
    "id": "HT0l47VMjD6E",
    "colab_type": "code",
    "colab": {
     "base_uri": "https://localhost:8080/",
     "height": 1000
    },
    "outputId": "217bcdb8-f3c3-42ff-c7a3-ae9b4f1540ae"
   },
   "source": [
    "# Print Summary\n",
    "model.encoder.summary()\n",
    "model.decoder.summary()"
   ],
   "execution_count": 5,
   "outputs": [
    {
     "output_type": "stream",
     "text": [
      "Model: \"sequential\"\n",
      "_________________________________________________________________\n",
      "Layer (type)                 Output Shape              Param #   \n",
      "=================================================================\n",
      "conv2d (Conv2D)              (None, 28, 28, 256)       2560      \n",
      "_________________________________________________________________\n",
      "conv2d_1 (Conv2D)            (None, 28, 28, 128)       295040    \n",
      "_________________________________________________________________\n",
      "conv2d_2 (Conv2D)            (None, 28, 28, 64)        73792     \n",
      "_________________________________________________________________\n",
      "max_pooling2d (MaxPooling2D) (None, 14, 14, 64)        0         \n",
      "_________________________________________________________________\n",
      "conv2d_3 (Conv2D)            (None, 14, 14, 32)        18464     \n",
      "_________________________________________________________________\n",
      "conv2d_4 (Conv2D)            (None, 14, 14, 16)        4624      \n",
      "_________________________________________________________________\n",
      "conv2d_5 (Conv2D)            (None, 14, 14, 8)         136       \n",
      "_________________________________________________________________\n",
      "max_pooling2d_1 (MaxPooling2 (None, 7, 7, 8)           0         \n",
      "_________________________________________________________________\n",
      "conv2d_6 (Conv2D)            (None, 7, 7, 4)           292       \n",
      "_________________________________________________________________\n",
      "conv2d_7 (Conv2D)            (None, 7, 7, 2)           10        \n",
      "_________________________________________________________________\n",
      "conv2d_8 (Conv2D)            (None, 7, 7, 1)           3         \n",
      "=================================================================\n",
      "Total params: 394,921\n",
      "Trainable params: 394,921\n",
      "Non-trainable params: 0\n",
      "_________________________________________________________________\n",
      "Model: \"sequential_1\"\n",
      "_________________________________________________________________\n",
      "Layer (type)                 Output Shape              Param #   \n",
      "=================================================================\n",
      "conv2d_9 (Conv2D)            (None, 7, 7, 2)           4         \n",
      "_________________________________________________________________\n",
      "conv2d_10 (Conv2D)           (None, 7, 7, 4)           76        \n",
      "_________________________________________________________________\n",
      "conv2d_11 (Conv2D)           (None, 7, 7, 8)           296       \n",
      "_________________________________________________________________\n",
      "up_sampling2d (UpSampling2D) (None, 14, 14, 8)         0         \n",
      "_________________________________________________________________\n",
      "conv2d_12 (Conv2D)           (None, 14, 14, 16)        1168      \n",
      "_________________________________________________________________\n",
      "conv2d_13 (Conv2D)           (None, 14, 14, 32)        4640      \n",
      "_________________________________________________________________\n",
      "conv2d_14 (Conv2D)           (None, 14, 14, 64)        18496     \n",
      "_________________________________________________________________\n",
      "up_sampling2d_1 (UpSampling2 (None, 28, 28, 64)        0         \n",
      "_________________________________________________________________\n",
      "conv2d_15 (Conv2D)           (None, 28, 28, 128)       73856     \n",
      "_________________________________________________________________\n",
      "conv2d_16 (Conv2D)           (None, 28, 28, 256)       295168    \n",
      "_________________________________________________________________\n",
      "conv2d_17 (Conv2D)           (None, 28, 28, 1)         2305      \n",
      "=================================================================\n",
      "Total params: 396,009\n",
      "Trainable params: 396,009\n",
      "Non-trainable params: 0\n",
      "_________________________________________________________________\n"
     ],
     "name": "stdout"
    }
   ]
  },
  {
   "cell_type": "code",
   "metadata": {
    "id": "1xsJFnFQZgds",
    "colab_type": "code",
    "colab": {}
   },
   "source": [
    "model_saver = tf.keras.callbacks.ModelCheckpoint(\n",
    "    \"model_weights.h5\",\n",
    "    monitor=\"val_loss\",\n",
    "    verbose=1,\n",
    "    save_best_only=True,\n",
    "    save_weights_only=False,\n",
    "    mode=\"auto\",\n",
    ")"
   ],
   "execution_count": 6,
   "outputs": []
  },
  {
   "cell_type": "code",
   "metadata": {
    "id": "PqF1Qe0Fj5xM",
    "colab_type": "code",
    "colab": {
     "base_uri": "https://localhost:8080/",
     "height": 272
    },
    "outputId": "801c3964-a715-474d-e752-b6e38a282f49"
   },
   "source": [
    "# Train the model\n",
    "history = model.fit(\n",
    "    X,\n",
    "    Y,\n",
    "    epochs=3,\n",
    "    validation_data=(X_val, Y_val),\n",
    "    batch_size=32,\n",
    "    callbacks=[model_saver],\n",
    ")"
   ],
   "execution_count": 7,
   "outputs": [
    {
     "output_type": "stream",
     "text": [
      "Epoch 1/3\n",
      "   2/1500 [..............................] - ETA: 41s - loss: 0.1102WARNING:tensorflow:Callbacks method `on_train_batch_end` is slow compared to the batch time (batch time: 0.0149s vs `on_train_batch_end` time: 0.0375s). Check your callbacks.\n",
      "1500/1500 [==============================] - ETA: 0s - loss: 0.0107WARNING:tensorflow:Callbacks method `on_test_batch_end` is slow compared to the batch time (batch time: 0.0032s vs `on_test_batch_end` time: 0.0122s). Check your callbacks.\n",
      "\n",
      "Epoch 00001: val_loss improved from inf to 0.00492, saving model to model_weights.h5\n",
      "1500/1500 [==============================] - 83s 56ms/step - loss: 0.0107 - val_loss: 0.0049\n",
      "Epoch 2/3\n",
      "1500/1500 [==============================] - ETA: 0s - loss: 0.0038\n",
      "Epoch 00002: val_loss improved from 0.00492 to 0.00326, saving model to model_weights.h5\n",
      "1500/1500 [==============================] - 83s 55ms/step - loss: 0.0038 - val_loss: 0.0033\n",
      "Epoch 3/3\n",
      "1500/1500 [==============================] - ETA: 0s - loss: 0.0032\n",
      "Epoch 00003: val_loss did not improve from 0.00326\n",
      "1500/1500 [==============================] - 83s 55ms/step - loss: 0.0032 - val_loss: 0.0033\n"
     ],
     "name": "stdout"
    }
   ]
  },
  {
   "cell_type": "code",
   "metadata": {
    "id": "LUeeJaHfj8SA",
    "colab_type": "code",
    "colab": {}
   },
   "source": [
    "# Setup Encoding Mode\n",
    "model.encode()\n",
    "# Encode 10 sample images\n",
    "encodings = model.predict(x_test[:10])"
   ],
   "execution_count": 8,
   "outputs": []
  },
  {
   "cell_type": "code",
   "metadata": {
    "id": "8KEgstucl9Du",
    "colab_type": "code",
    "colab": {}
   },
   "source": [
    "# Setup Decoding Mode\n",
    "model.decode()\n",
    "# Decode 10 sample images\n",
    "decodings = model.predict(encodings)"
   ],
   "execution_count": 9,
   "outputs": []
  },
  {
   "cell_type": "code",
   "metadata": {
    "id": "eJxyVpyrouF8",
    "colab_type": "code",
    "colab": {
     "base_uri": "https://localhost:8080/",
     "height": 1000
    },
    "outputId": "3c6f0845-9065-4aec-e92d-3adb7025dc5c"
   },
   "source": [
    "# Plotting original and extracted images\n",
    "w = 10\n",
    "h = 10\n",
    "fig = plt.figure(figsize=(10, 20))\n",
    "columns = 2\n",
    "rows = 10\n",
    "j = 0\n",
    "k = 0\n",
    "for i in range(1, columns * rows + 1):\n",
    "    if i % 2 == 0:\n",
    "        img = decodings[j, ..., 0]\n",
    "        j += 1\n",
    "    else:\n",
    "        img = x_test[k, ..., 0]\n",
    "        k += 1\n",
    "    fig.add_subplot(rows, columns, i)\n",
    "    plt.imshow(img, cmap=\"gray\")\n",
    "plt.show()"
   ],
   "execution_count": 10,
   "outputs": [
    {
     "output_type": "display_data",
     "data": {
      "image/png": "[encoded data removed]",
      "text/plain": [
       "<Figure size 720x1440 with 20 Axes>"
      ]
     },
     "metadata": {
      "tags": [],
      "needs_background": "light"
     }
    }
   ]
  },
  {
   "cell_type": "code",
   "metadata": {
    "id": "und1g6cZo84z",
    "colab_type": "code",
    "colab": {}
   },
   "source": [
    ""
   ],
   "execution_count": 10,
   "outputs": []
  }
 ]
}